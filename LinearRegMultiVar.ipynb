{
  "nbformat": 4,
  "nbformat_minor": 0,
  "metadata": {
    "colab": {
      "name": "LinearRegMultiVar.ipynb",
      "provenance": [],
      "collapsed_sections": []
    },
    "kernelspec": {
      "name": "python3",
      "display_name": "Python 3"
    },
    "language_info": {
      "name": "python"
    }
  },
  "cells": [
    {
      "cell_type": "code",
      "execution_count": null,
      "metadata": {
        "id": "bhHMnRJSkGwj"
      },
      "outputs": [],
      "source": [
        "import numpy as np\n",
        "import matplotlib.pyplot as plt\n",
        "import pandas as pd"
      ]
    },
    {
      "cell_type": "code",
      "source": [
        "dataset = pd.read_csv('house_data.csv')"
      ],
      "metadata": {
        "id": "tHnkWc8fkfFl"
      },
      "execution_count": null,
      "outputs": []
    },
    {
      "cell_type": "code",
      "source": [
        "dataset.insert(4,\"x0\",1)\n",
        "print (dataset.head())\n"
      ],
      "metadata": {
        "id": "x_Wb9l-qNVIz",
        "colab": {
          "base_uri": "https://localhost:8080/"
        },
        "outputId": "4f050ae7-d39b-4d1a-c65c-65992d651988"
      },
      "execution_count": null,
      "outputs": [
        {
          "output_type": "stream",
          "name": "stdout",
          "text": [
            "           id             date     price  ...     long  sqft_living15  sqft_lot15\n",
            "0  7129300520  20141013T000000  221900.0  ... -122.257           1340        5650\n",
            "1  6414100192  20141209T000000  538000.0  ... -122.319           1690        7639\n",
            "2  5631500400  20150225T000000  180000.0  ... -122.233           2720        8062\n",
            "3  2487200875  20141209T000000  604000.0  ... -122.393           1360        5000\n",
            "4  1954400510  20150218T000000  510000.0  ... -122.045           1800        7503\n",
            "\n",
            "[5 rows x 22 columns]\n"
          ]
        }
      ]
    },
    {
      "cell_type": "code",
      "source": [
        "x_data = dataset.iloc[:,[4,5,6,10,12,18]]\n",
        "y_data = dataset['price']\n",
        "print(x_data)"
      ],
      "metadata": {
        "colab": {
          "base_uri": "https://localhost:8080/"
        },
        "id": "g7NW7rypwlpm",
        "outputId": "0f986cb4-0d29-4166-e48f-eb9565044352"
      },
      "execution_count": null,
      "outputs": [
        {
          "output_type": "stream",
          "name": "stdout",
          "text": [
            "       x0  bathrooms  sqft_living  view  grade      lat\n",
            "0       1       1.00         1180     0      7  47.5112\n",
            "1       1       2.25         2570     0      7  47.7210\n",
            "2       1       1.00          770     0      6  47.7379\n",
            "3       1       3.00         1960     0      7  47.5208\n",
            "4       1       2.00         1680     0      8  47.6168\n",
            "...    ..        ...          ...   ...    ...      ...\n",
            "21608   1       2.50         1530     0      8  47.6993\n",
            "21609   1       2.50         2310     0      8  47.5107\n",
            "21610   1       0.75         1020     0      7  47.5944\n",
            "21611   1       2.50         1600     0      8  47.5345\n",
            "21612   1       0.75         1020     0      7  47.5941\n",
            "\n",
            "[21613 rows x 6 columns]\n"
          ]
        }
      ]
    },
    {
      "cell_type": "code",
      "source": [
        "#scaling\n",
        "x1_max=x_data.iloc[:,1].max()\n",
        "x2_max=x_data.iloc[:,2].max()\n",
        "x3_max=x_data.iloc[:,3].max()\n",
        "x4_max=x_data.iloc[:,4].max()\n",
        "x5_max=x_data.iloc[:,5].max()\n",
        "x_data.iloc[:,1]=(x_data.iloc[:,1])/(x1_max)\n",
        "x_data.iloc[:,2]=(x_data.iloc[:,2])/(x2_max)\n",
        "x_data.iloc[:,3]=(x_data.iloc[:,3])/(x3_max)\n",
        "x_data.iloc[:,4]=(x_data.iloc[:,4])/(x4_max)\n",
        "x_data.iloc[:,5]=(x_data.iloc[:,5])/(x5_max)\n",
        "print(x_data)"
      ],
      "metadata": {
        "colab": {
          "base_uri": "https://localhost:8080/"
        },
        "id": "C1XcicVSRUom",
        "outputId": "a86b6aa9-5e2a-4192-98da-c561e51b8b8a"
      },
      "execution_count": null,
      "outputs": [
        {
          "output_type": "stream",
          "name": "stdout",
          "text": [
            "       x0  bathrooms  sqft_living  view     grade       lat\n",
            "0       1    0.12500     0.087149   0.0  0.538462  0.994424\n",
            "1       1    0.28125     0.189808   0.0  0.538462  0.998815\n",
            "2       1    0.12500     0.056869   0.0  0.461538  0.999169\n",
            "3       1    0.37500     0.144756   0.0  0.538462  0.994625\n",
            "4       1    0.25000     0.124077   0.0  0.615385  0.996634\n",
            "...    ..        ...          ...   ...       ...       ...\n",
            "21608   1    0.31250     0.112999   0.0  0.615385  0.998361\n",
            "21609   1    0.31250     0.170606   0.0  0.615385  0.994414\n",
            "21610   1    0.09375     0.075332   0.0  0.538462  0.996166\n",
            "21611   1    0.31250     0.118168   0.0  0.615385  0.994912\n",
            "21612   1    0.09375     0.075332   0.0  0.538462  0.996159\n",
            "\n",
            "[21613 rows x 6 columns]\n"
          ]
        },
        {
          "output_type": "stream",
          "name": "stderr",
          "text": [
            "/usr/local/lib/python3.7/dist-packages/pandas/core/indexing.py:1743: SettingWithCopyWarning: \n",
            "A value is trying to be set on a copy of a slice from a DataFrame.\n",
            "Try using .loc[row_indexer,col_indexer] = value instead\n",
            "\n",
            "See the caveats in the documentation: https://pandas.pydata.org/pandas-docs/stable/user_guide/indexing.html#returning-a-view-versus-a-copy\n",
            "  isetter(ilocs[0], value)\n"
          ]
        }
      ]
    },
    {
      "cell_type": "code",
      "source": [
        "#convert to matrix\n",
        "x_data=np.array(x_data)\n",
        "y_data=np.array(y_data).flatten()\n",
        "print(x_data.shape)\n",
        "print(y_data.shape)"
      ],
      "metadata": {
        "colab": {
          "base_uri": "https://localhost:8080/"
        },
        "id": "lwVYDSdaS9ss",
        "outputId": "1980e2cc-cb78-4090-df03-ce81bbf8e029"
      },
      "execution_count": null,
      "outputs": [
        {
          "output_type": "stream",
          "name": "stdout",
          "text": [
            "(21613, 6)\n",
            "(21613,)\n"
          ]
        }
      ]
    },
    {
      "cell_type": "code",
      "source": [
        "#split data train & test 80/20\n",
        "trainSize=int(y_data.size*.8)\n",
        "print(trainSize)\n",
        "xTrain=x_data[:trainSize]\n",
        "xTest=x_data[trainSize:]\n",
        "\n",
        "yTrain=y_data[:trainSize]\n",
        "yTest=y_data[trainSize:]\n",
        "\n",
        "print(xTrain,xTest)\n",
        "print(len(yTrain),len(yTest))"
      ],
      "metadata": {
        "colab": {
          "base_uri": "https://localhost:8080/"
        },
        "id": "o0vcL8BaTp4r",
        "outputId": "34ee0615-db1d-4c26-d05c-9cc033f8542f"
      },
      "execution_count": null,
      "outputs": [
        {
          "output_type": "stream",
          "name": "stdout",
          "text": [
            "17290\n",
            "[[1.         0.125      0.08714919 0.         0.53846154 0.99442417]\n",
            " [1.         0.28125    0.18980798 0.         0.53846154 0.99881534]\n",
            " [1.         0.125      0.05686854 0.         0.46153846 0.99916907]\n",
            " ...\n",
            " [1.         0.25       0.18759232 0.75       0.61538462 0.99622417]\n",
            " [1.         0.53125    0.38035451 0.5        0.84615385 0.99688557]\n",
            " [1.         0.5625     0.25258493 0.         0.69230769 0.99811418]] [[1.         0.3125     0.1676514  0.         0.61538462 0.99856209]\n",
            " [1.         0.3125     0.1676514  0.         0.61538462 0.99856209]\n",
            " [1.         0.3125     0.10856721 0.         0.61538462 0.99517766]\n",
            " ...\n",
            " [1.         0.09375    0.07533235 0.         0.53846154 0.99616557]\n",
            " [1.         0.3125     0.11816839 0.         0.61538462 0.99491184]\n",
            " [1.         0.09375    0.07533235 0.         0.53846154 0.99615929]]\n",
            "17290 4323\n"
          ]
        }
      ]
    },
    {
      "cell_type": "code",
      "source": [
        "alpha=.8\n",
        "ceta=np.array([0,0,0,0,0,0])\n",
        "mse=[]\n",
        "def gradientDescentOneVar():\n",
        "    global ceta,mse\n",
        "    for i in range(100000):\n",
        "        y_pred = xTrain.dot(ceta) \n",
        "        ceta = ceta - ((xTrain.T.dot(y_pred - yTrain)) * alpha * (1 / trainSize))\n",
        "        ceta0,ceta1,ceta2,ceta3,ceta4,ceta5=ceta\n",
        "        #mse.append(MSE(ceta0,ceta1,ceta2,ceta3,ceta4,ceta5))\n",
        "    print(\"MSE = \",MSE(ceta0,ceta1,ceta2,ceta3,ceta4,ceta5))\n",
        "    print(\"Theta: \",ceta)"
      ],
      "metadata": {
        "id": "EU0Jop-CW3rp"
      },
      "execution_count": null,
      "outputs": []
    },
    {
      "cell_type": "code",
      "source": [
        "def MSE(ceta0,ceta1,ceta2,ceta3,ceta4,ceta5):\n",
        "    Esum=0\n",
        "    xTrain1=xTrain[:,1]\n",
        "    xTrain2=xTrain[:,2]\n",
        "    xTrain3=xTrain[:,3]\n",
        "    xTrain4=xTrain[:,4]\n",
        "    xTrain5=xTrain[:,5]\n",
        "    for i in range(trainSize):\n",
        "        Esum+=pow( yTrain[i] - (ceta0 + (ceta1*xTrain1[i]) + (ceta2*xTrain2[i]) + (ceta3*xTrain3[i]) + (ceta4*xTrain4[i]) + (ceta5*xTrain5[i]) ) , 2)\n",
        "    Esum=Esum*(1/(2 * trainSize))\n",
        "    return Esum"
      ],
      "metadata": {
        "id": "gDnukG5HW_Cc"
      },
      "execution_count": null,
      "outputs": []
    },
    {
      "cell_type": "code",
      "source": [
        "gradientDescentOneVar()"
      ],
      "metadata": {
        "colab": {
          "base_uri": "https://localhost:8080/"
        },
        "id": "ZL7RcrO6XAOz",
        "outputId": "6f09c1c7-619e-458c-bd94-4b09f3cb2c73"
      },
      "execution_count": null,
      "outputs": [
        {
          "output_type": "stream",
          "name": "stdout",
          "text": [
            "MSE =  26803945799.290802\n",
            "Theta:  [-9240256.40951901  -237969.97659233  2549956.54121977   384346.76910434\n",
            "  1152331.71241533  8791643.17234255]\n"
          ]
        }
      ]
    },
    {
      "cell_type": "code",
      "source": [
        "def predTest():\n",
        "    ytestpred = xTest.dot(ceta)\n",
        "    print('Predicted price:',ytestpred)\n",
        "    print('Orignal price:',yTest)"
      ],
      "metadata": {
        "id": "qtNEIV-3kHMI"
      },
      "execution_count": null,
      "outputs": []
    },
    {
      "cell_type": "code",
      "source": [
        "predTest()"
      ],
      "metadata": {
        "colab": {
          "base_uri": "https://localhost:8080/"
        },
        "id": "QmIOR6vJk9hs",
        "outputId": "45ea0dd2-83c2-43eb-fb4e-338df177d3df"
      },
      "execution_count": null,
      "outputs": [
        {
          "output_type": "stream",
          "name": "stdout",
          "text": [
            "Predicted price: [601010.53304659 601010.53304659 420593.692147   ... 307946.63369128\n",
            " 442739.33806037 307891.43014502]\n",
            "Orignal price: [380000. 624900. 379770. ... 402101. 400000. 325000.]\n"
          ]
        }
      ]
    },
    {
      "cell_type": "code",
      "source": [
        "#Trying different alphas\n",
        "#alpha = .8       iteration = 100000      MSE =  26803945799.290802\n",
        "#alpha = .4       iteration = 100000      MSE =  27656845318.353786\n",
        "#alpha = .1       iteration = 100000      MSE =  28515275366.74755\n",
        "#alpha = .01      iteration = 10000       MSE =  32704127208.611366\n",
        "#alpha = .001     iteration = 50000       MSE =  36509641064.27643\n",
        "#alpha = .0001    iteration = 100000      MSE =  50854593503.595795"
      ],
      "metadata": {
        "id": "Ka2UuV8WY8st"
      },
      "execution_count": null,
      "outputs": []
    }
  ]
}